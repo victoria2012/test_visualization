{
  "nbformat": 4,
  "nbformat_minor": 0,
  "metadata": {
    "colab": {
      "name": "python_language.ipynb",
      "provenance": [],
      "collapsed_sections": [],
      "authorship_tag": "ABX9TyPOEve0VG0sF7NJ0pQCCdB+"
    },
    "kernelspec": {
      "name": "python3",
      "display_name": "Python 3"
    },
    "language_info": {
      "name": "python"
    }
  },
  "cells": [
    {
      "cell_type": "code",
      "metadata": {
        "id": "hlgnSRIxTftP"
      },
      "source": [
        "import numpy as np"
      ],
      "execution_count": 1,
      "outputs": []
    },
    {
      "cell_type": "code",
      "metadata": {
        "colab": {
          "base_uri": "https://localhost:8080/",
          "height": 35
        },
        "id": "T0jpp_zFVWH6",
        "outputId": "3b53faaf-dab9-43c6-ca94-59397c3c26b7"
      },
      "source": [
        "np.__version__         # __는 내장변수를 뜻하는 것임."
      ],
      "execution_count": 2,
      "outputs": [
        {
          "output_type": "execute_result",
          "data": {
            "application/vnd.google.colaboratory.intrinsic+json": {
              "type": "string"
            },
            "text/plain": [
              "'1.19.5'"
            ]
          },
          "metadata": {
            "tags": []
          },
          "execution_count": 2
        }
      ]
    },
    {
      "cell_type": "code",
      "metadata": {
        "id": "f1NldsGf2aWc"
      },
      "source": [
        "def onhotcylinder(cylinders):\n",
        "  if cylinders == 3:\n",
        "    cylinder = np.array([1,0,0,0,0])\n",
        "  elif cylinders == 4:\n",
        "    cylinder = np.array([0,1,0,0,0])\n",
        "  elif cylinders == 5:\n",
        "    cylinder = np.array([0,0,1,0,0])\n",
        "  elif cylinders == 6:\n",
        "    cylinder = np.array([0,0,0,1,0])\n",
        "  else: # 8\n",
        "    cylinder = np.array([0,0,0,0,1]) \n",
        "  return cylinder"
      ],
      "execution_count": 84,
      "outputs": []
    },
    {
      "cell_type": "code",
      "metadata": {
        "id": "DRU2Ak4QVrB5"
      },
      "source": [
        "displacement = 307.9\n",
        "horsepower = 130.0\n",
        "weight = 3504.0\n",
        "accel = 12.0\n",
        "cylinders = 8\n",
        "origin = 1\n",
        "\n",
        "## if cylinders = 8, origin = 1 ---> onehot encoding\n",
        "import numpy as np\n",
        "\n",
        "X_continues = np.array([displacement, horsepower, weight, accel])\n",
        "# cylinder = np.array([0,0,0,0,1])  # 8\n",
        "cylinder = onhotcylinder(cylinders)\n",
        "org = np.array([1,0,0])  # 1"
      ],
      "execution_count": 85,
      "outputs": []
    },
    {
      "cell_type": "code",
      "metadata": {
        "colab": {
          "base_uri": "https://localhost:8080/"
        },
        "id": "aHLYyJQj3D7U",
        "outputId": "9890ec5a-9796-4cb1-d49a-d6663d27b6c8"
      },
      "source": [
        "onhotcylinder(4), onhotcylinder(6)"
      ],
      "execution_count": 86,
      "outputs": [
        {
          "output_type": "execute_result",
          "data": {
            "text/plain": [
              "(array([0, 1, 0, 0, 0]), array([0, 0, 0, 1, 0]))"
            ]
          },
          "metadata": {
            "tags": []
          },
          "execution_count": 86
        }
      ]
    },
    {
      "cell_type": "code",
      "metadata": {
        "colab": {
          "base_uri": "https://localhost:8080/"
        },
        "id": "_WygibPYhPKA",
        "outputId": "1bb79a8c-7075-4519-d000-3402a05bd07c"
      },
      "source": [
        "cylinder"
      ],
      "execution_count": 87,
      "outputs": [
        {
          "output_type": "execute_result",
          "data": {
            "text/plain": [
              "array([0, 0, 0, 0, 1])"
            ]
          },
          "metadata": {
            "tags": []
          },
          "execution_count": 87
        }
      ]
    },
    {
      "cell_type": "code",
      "metadata": {
        "colab": {
          "base_uri": "https://localhost:8080/"
        },
        "id": "NytUtn1xXDsh",
        "outputId": "b5eccc65-9555-41a7-db85-ee54cd1d0489"
      },
      "source": [
        "type(X_continues), type(cylinder), type(org)"
      ],
      "execution_count": 88,
      "outputs": [
        {
          "output_type": "execute_result",
          "data": {
            "text/plain": [
              "(numpy.ndarray, numpy.ndarray, numpy.ndarray)"
            ]
          },
          "metadata": {
            "tags": []
          },
          "execution_count": 88
        }
      ]
    },
    {
      "cell_type": "markdown",
      "metadata": {
        "id": "bSj3GKSxX5bJ"
      },
      "source": [
        "numpy.concatenate : numpy 배열들을 하나로 합치는데 이용         api에서 예제를 사용해볼 것   \n",
        "np.concatenate((a, b), axis=None)"
      ]
    },
    {
      "cell_type": "code",
      "metadata": {
        "colab": {
          "base_uri": "https://localhost:8080/"
        },
        "id": "NICJ5UuWXT7P",
        "outputId": "171fe435-09ec-44d7-da3c-96ef9b92972f"
      },
      "source": [
        "result = np.concatenate((X_continues, cylinder, org), axis=None)                    \n",
        "result.shape, result"
      ],
      "execution_count": 89,
      "outputs": [
        {
          "output_type": "execute_result",
          "data": {
            "text/plain": [
              "((12,),\n",
              " array([3.079e+02, 1.300e+02, 3.504e+03, 1.200e+01, 0.000e+00, 0.000e+00,\n",
              "        0.000e+00, 0.000e+00, 1.000e+00, 1.000e+00, 0.000e+00, 0.000e+00]))"
            ]
          },
          "metadata": {
            "tags": []
          },
          "execution_count": 89
        }
      ]
    },
    {
      "cell_type": "markdown",
      "metadata": {
        "id": "1qRMKPB4Zcpx"
      },
      "source": [
        "e : 승수를 뜻함  +02 는 *100, +03은 *1000, +01은 *10을 뜻함\n",
        "\n",
        "[307.0, 130.0, 3504.0, 12.0, 0,0,0,0,1,1,0,0 ] 과 같음\n",
        "행열의 구조로 넣어주어야 함. (1,12)형태로... 그래서 reshape을 쓴다. "
      ]
    },
    {
      "cell_type": "code",
      "metadata": {
        "colab": {
          "base_uri": "https://localhost:8080/"
        },
        "id": "pu6tYCuUZHr5",
        "outputId": "62d73ba5-09c6-4fb2-c7d5-9f377fec718a"
      },
      "source": [
        " result.reshape(1,12), result.size"
      ],
      "execution_count": 90,
      "outputs": [
        {
          "output_type": "execute_result",
          "data": {
            "text/plain": [
              "(array([[3.079e+02, 1.300e+02, 3.504e+03, 1.200e+01, 0.000e+00, 0.000e+00,\n",
              "         0.000e+00, 0.000e+00, 1.000e+00, 1.000e+00, 0.000e+00, 0.000e+00]]),\n",
              " 12)"
            ]
          },
          "metadata": {
            "tags": []
          },
          "execution_count": 90
        }
      ]
    },
    {
      "cell_type": "markdown",
      "metadata": {
        "id": "XutWansKbILB"
      },
      "source": [
        "result = reshape(-1, result.size) 도 같은 결과를 가져올 수 있다. (소프트코딩 방법) <br> -1은 자기 연산을 뜻함."
      ]
    },
    {
      "cell_type": "code",
      "metadata": {
        "colab": {
          "base_uri": "https://localhost:8080/"
        },
        "id": "Z6WqTjYJa_vv",
        "outputId": "37a4b7e2-b1a4-4434-d6a3-84f1df4e2d1f"
      },
      "source": [
        "result"
      ],
      "execution_count": 91,
      "outputs": [
        {
          "output_type": "execute_result",
          "data": {
            "text/plain": [
              "array([3.079e+02, 1.300e+02, 3.504e+03, 1.200e+01, 0.000e+00, 0.000e+00,\n",
              "       0.000e+00, 0.000e+00, 1.000e+00, 1.000e+00, 0.000e+00, 0.000e+00])"
            ]
          },
          "metadata": {
            "tags": []
          },
          "execution_count": 91
        }
      ]
    },
    {
      "cell_type": "markdown",
      "metadata": {
        "id": "wxe0s0gdipK_"
      },
      "source": [
        "# function 이해"
      ]
    },
    {
      "cell_type": "code",
      "metadata": {
        "id": "DpPEZ1bFhe5n"
      },
      "source": [
        "# function은 공통적인 것을 묶는 것 --> 반복적인 작업의 기능화"
      ],
      "execution_count": 23,
      "outputs": []
    },
    {
      "cell_type": "code",
      "metadata": {
        "colab": {
          "base_uri": "https://localhost:8080/"
        },
        "id": "zzKNQhU1ixCM",
        "outputId": "876838c1-d116-490e-fda8-9516e8d27783"
      },
      "source": [
        "21 + 14"
      ],
      "execution_count": 24,
      "outputs": [
        {
          "output_type": "execute_result",
          "data": {
            "text/plain": [
              "35"
            ]
          },
          "metadata": {
            "tags": []
          },
          "execution_count": 24
        }
      ]
    },
    {
      "cell_type": "code",
      "metadata": {
        "colab": {
          "base_uri": "https://localhost:8080/"
        },
        "id": "KWhoP4fLi2L_",
        "outputId": "8695da10-93b0-43b0-855e-b6198de1c6f3"
      },
      "source": [
        "32 + 45"
      ],
      "execution_count": 25,
      "outputs": [
        {
          "output_type": "execute_result",
          "data": {
            "text/plain": [
              "77"
            ]
          },
          "metadata": {
            "tags": []
          },
          "execution_count": 25
        }
      ]
    },
    {
      "cell_type": "code",
      "metadata": {
        "id": "61lDejkni4JP"
      },
      "source": [
        "def sum():\n",
        "  first = 32\n",
        "  second = 45\n",
        "  result = first + second\n",
        "  return result"
      ],
      "execution_count": 48,
      "outputs": []
    },
    {
      "cell_type": "code",
      "metadata": {
        "id": "cjP03oA4jDPW"
      },
      "source": [
        "def sum(f,s):      # 함수의 외부에선 순서가 중요하고 내부에서는 이름이 중요하다. \n",
        "  first = s\n",
        "  second = f\n",
        "  result = first + second\n",
        "  return result, first, second"
      ],
      "execution_count": 62,
      "outputs": []
    },
    {
      "cell_type": "code",
      "metadata": {
        "colab": {
          "base_uri": "https://localhost:8080/"
        },
        "id": "fgYcrvc-ltge",
        "outputId": "9f04d668-0c79-4180-9777-e58691703e80"
      },
      "source": [
        "sum(4,5), sum(3,2), sum(21,564)"
      ],
      "execution_count": 63,
      "outputs": [
        {
          "output_type": "execute_result",
          "data": {
            "text/plain": [
              "((9, 5, 4), (5, 2, 3), (585, 564, 21))"
            ]
          },
          "metadata": {
            "tags": []
          },
          "execution_count": 63
        }
      ]
    },
    {
      "cell_type": "code",
      "metadata": {
        "colab": {
          "base_uri": "https://localhost:8080/"
        },
        "id": "VjcUU8h5wMP8",
        "outputId": "67a6231e-d6a6-4bd9-9ce1-21cbbb518e49"
      },
      "source": [
        "r01,r02,r03 = sum(23, 2)\n",
        "print(r01,r02)"
      ],
      "execution_count": 67,
      "outputs": [
        {
          "output_type": "stream",
          "text": [
            "25 2\n"
          ],
          "name": "stdout"
        }
      ]
    },
    {
      "cell_type": "code",
      "metadata": {
        "colab": {
          "base_uri": "https://localhost:8080/"
        },
        "id": "5_OifApGpBF1",
        "outputId": "ebd262c3-2087-464a-f1c1-018929537399"
      },
      "source": [
        "21 * 32 * 2"
      ],
      "execution_count": 56,
      "outputs": [
        {
          "output_type": "execute_result",
          "data": {
            "text/plain": [
              "1344"
            ]
          },
          "metadata": {
            "tags": []
          },
          "execution_count": 56
        }
      ]
    },
    {
      "cell_type": "code",
      "metadata": {
        "colab": {
          "base_uri": "https://localhost:8080/"
        },
        "id": "MeM5nmLxtWDq",
        "outputId": "650e7fcc-bb4f-4c3f-ec5a-6a82d5b4c2e8"
      },
      "source": [
        "31 * 63 * 41"
      ],
      "execution_count": 57,
      "outputs": [
        {
          "output_type": "execute_result",
          "data": {
            "text/plain": [
              "80073"
            ]
          },
          "metadata": {
            "tags": []
          },
          "execution_count": 57
        }
      ]
    },
    {
      "cell_type": "code",
      "metadata": {
        "id": "UnJyIKCJtYD9"
      },
      "source": [
        "def multi(x,y,z):\n",
        "  result = x * y * z\n",
        "  return result"
      ],
      "execution_count": 58,
      "outputs": []
    },
    {
      "cell_type": "code",
      "metadata": {
        "colab": {
          "base_uri": "https://localhost:8080/"
        },
        "id": "DB1zyqsstqSE",
        "outputId": "ada253b6-3092-4726-b9ac-6f6858a2458d"
      },
      "source": [
        "multi(21,32,2), multi(31,63,41)"
      ],
      "execution_count": 59,
      "outputs": [
        {
          "output_type": "execute_result",
          "data": {
            "text/plain": [
              "(1344, 80073)"
            ]
          },
          "metadata": {
            "tags": []
          },
          "execution_count": 59
        }
      ]
    },
    {
      "cell_type": "code",
      "metadata": {
        "id": "W9CokXNzxur8"
      },
      "source": [
        "# def differenceVars(*var01, **args02)\n",
        "def diffparam(*var_list, **var_dict):           # 파라미터가 list일 경우 *, dictionary일 경우 **를 쓴다. 요즘 많이 쓰고 있다. \n",
        "  print(var_dict)\n",
        "  result01 = len(var_list)\n",
        "  return result01"
      ],
      "execution_count": 78,
      "outputs": []
    },
    {
      "cell_type": "code",
      "metadata": {
        "colab": {
          "base_uri": "https://localhost:8080/"
        },
        "id": "HYLsx4TLzKqt",
        "outputId": "c263268a-cb63-47dd-e09c-150a78048865"
      },
      "source": [
        "diffparam(1,2,3, a=2,b=3)"
      ],
      "execution_count": 79,
      "outputs": [
        {
          "output_type": "stream",
          "text": [
            "{'a': 2, 'b': 3}\n"
          ],
          "name": "stdout"
        },
        {
          "output_type": "execute_result",
          "data": {
            "text/plain": [
              "3"
            ]
          },
          "metadata": {
            "tags": []
          },
          "execution_count": 79
        }
      ]
    },
    {
      "cell_type": "code",
      "metadata": {
        "colab": {
          "base_uri": "https://localhost:8080/"
        },
        "id": "mGAhTCj8zVXp",
        "outputId": "09494cd1-d540-4252-de98-6fc28ae3c1f8"
      },
      "source": [
        "diffparam(1,2,3,5,6, d=6,a=2,b=3,c=5)"
      ],
      "execution_count": 75,
      "outputs": [
        {
          "output_type": "stream",
          "text": [
            "{'d': 6, 'a': 2, 'b': 3, 'c': 5}\n"
          ],
          "name": "stdout"
        },
        {
          "output_type": "execute_result",
          "data": {
            "text/plain": [
              "5"
            ]
          },
          "metadata": {
            "tags": []
          },
          "execution_count": 75
        }
      ]
    },
    {
      "cell_type": "code",
      "metadata": {
        "id": "4pSBeIlZz8rd"
      },
      "source": [
        ""
      ],
      "execution_count": null,
      "outputs": []
    }
  ]
}