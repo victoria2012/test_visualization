{
  "nbformat": 4,
  "nbformat_minor": 0,
  "metadata": {
    "colab": {
      "name": "autompg_linearregression_service.ipynb",
      "provenance": [],
      "collapsed_sections": [],
      "authorship_tag": "ABX9TyMnc5B5QFRH3tgcs3UQxzYm"
    },
    "kernelspec": {
      "name": "python3",
      "display_name": "Python 3"
    },
    "language_info": {
      "name": "python"
    }
  },
  "cells": [
    {
      "cell_type": "code",
      "metadata": {
        "colab": {
          "base_uri": "https://localhost:8080/"
        },
        "id": "y1N0LaMqm0M9",
        "outputId": "644afe2c-83b7-4f20-c725-4c883cd1f033"
      },
      "source": [
        "!ls -l ./autompg_lr.pkl"
      ],
      "execution_count": 8,
      "outputs": [
        {
          "output_type": "stream",
          "text": [
            "-rw-r--r-- 1 root root 567 Jul  6 02:17 ./autompg_lr.pkl\n"
          ],
          "name": "stdout"
        }
      ]
    },
    {
      "cell_type": "markdown",
      "metadata": {
        "id": "QxgCgK9inWbe"
      },
      "source": [
        "# load pickle with linear regression and scaler"
      ]
    },
    {
      "cell_type": "code",
      "metadata": {
        "colab": {
          "base_uri": "https://localhost:8080/"
        },
        "id": "aVbCFXdEmFC6",
        "outputId": "4233a727-8e50-4b03-b160-2c8b2d6a33da"
      },
      "source": [
        "import pickle\n",
        "lr = pickle.load(open('./autompg_lr.pkl','rb'))\n",
        "type(lr)"
      ],
      "execution_count": 9,
      "outputs": [
        {
          "output_type": "execute_result",
          "data": {
            "text/plain": [
              "sklearn.linear_model._base.LinearRegression"
            ]
          },
          "metadata": {
            "tags": []
          },
          "execution_count": 9
        }
      ]
    },
    {
      "cell_type": "code",
      "metadata": {
        "colab": {
          "base_uri": "https://localhost:8080/"
        },
        "id": "v4BtOCe5mwC1",
        "outputId": "4e13de93-c534-4a4d-c91a-b28ca0ae58f3"
      },
      "source": [
        "scaler = pickle.load(open('./autompg_standardscaler.pkl','rb'))\n",
        "type(scaler)"
      ],
      "execution_count": 10,
      "outputs": [
        {
          "output_type": "execute_result",
          "data": {
            "text/plain": [
              "sklearn.preprocessing._data.StandardScaler"
            ]
          },
          "metadata": {
            "tags": []
          },
          "execution_count": 10
        }
      ]
    },
    {
      "cell_type": "markdown",
      "metadata": {
        "id": "WqQP5-sv_1Ag"
      },
      "source": [
        "# Predict with Linear Regression"
      ]
    },
    {
      "cell_type": "code",
      "metadata": {
        "id": "o5tJhpbvuW3b"
      },
      "source": [
        "displacement = 307.9\n",
        "horsepower = 130.0\n",
        "weight = 3504.0\n",
        "accel = 12.0\n",
        "x_custmer = [[displacement, horsepower, weight, accel]]\n",
        "# [[307.0, 130.0, 3504.0, 12.0]]"
      ],
      "execution_count": 13,
      "outputs": []
    },
    {
      "cell_type": "code",
      "metadata": {
        "colab": {
          "base_uri": "https://localhost:8080/"
        },
        "id": "JftBsDMyB_Ig",
        "outputId": "9aad3066-31bb-47b5-e6ec-56321b68b646"
      },
      "source": [
        "x_custmer = scaler.transform(x_custmer)\n",
        "x_custmer.shape"
      ],
      "execution_count": 14,
      "outputs": [
        {
          "output_type": "execute_result",
          "data": {
            "text/plain": [
              "(1, 4)"
            ]
          },
          "metadata": {
            "tags": []
          },
          "execution_count": 14
        }
      ]
    },
    {
      "cell_type": "code",
      "metadata": {
        "colab": {
          "base_uri": "https://localhost:8080/"
        },
        "id": "5b_-SidVA7_4",
        "outputId": "58ba7470-967a-4fef-aff1-dce2b34c01b5"
      },
      "source": [
        "result = lr.predict(x_custmer)\n",
        "result[0]"
      ],
      "execution_count": 18,
      "outputs": [
        {
          "output_type": "execute_result",
          "data": {
            "text/plain": [
              "18.992143129358972"
            ]
          },
          "metadata": {
            "tags": []
          },
          "execution_count": 18
        }
      ]
    },
    {
      "cell_type": "code",
      "metadata": {
        "id": "yfRztb4zCNGW"
      },
      "source": [
        ""
      ],
      "execution_count": null,
      "outputs": []
    }
  ]
}